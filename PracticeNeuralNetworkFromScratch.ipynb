{
  "nbformat": 4,
  "nbformat_minor": 0,
  "metadata": {
    "colab": {
      "provenance": [],
      "authorship_tag": "ABX9TyPew9vQIYNnlWUe2U+l6gX0",
      "include_colab_link": true
    },
    "kernelspec": {
      "name": "python3",
      "display_name": "Python 3"
    },
    "language_info": {
      "name": "python"
    }
  },
  "cells": [
    {
      "cell_type": "markdown",
      "metadata": {
        "id": "view-in-github",
        "colab_type": "text"
      },
      "source": [
        "<a href=\"https://colab.research.google.com/github/MrMystrious/loanPredictionModel/blob/practice/PracticeNeuralNetworkFromScratch.ipynb\" target=\"_parent\"><img src=\"https://colab.research.google.com/assets/colab-badge.svg\" alt=\"Open In Colab\"/></a>"
      ]
    },
    {
      "cell_type": "code",
      "execution_count": null,
      "metadata": {
        "id": "2D4rB6DTY11A"
      },
      "outputs": [],
      "source": [
        "import numpy as np"
      ]
    },
    {
      "cell_type": "code",
      "source": [
        "class Network:\n",
        "    def __init__(self,layers,acti):\n",
        "        self.size=len(layers)\n",
        "        self.weight =dict()\n",
        "        self.bias = dict()\n",
        "        self.activators = dict()\n",
        "        for y,x,a,i in zip(layers[1:],layers[0:],acti,range(self.size)):\n",
        "            self.weight[i]=np.random.rand(y,x)*0.01\n",
        "            self.bias[i]= np.random.rand(y,1)*0.01\n",
        "            self.activators[i]=a\n",
        "        print(self.weight,self.bias)\n",
        "    def forwardPass(self,x):\n",
        "        inp = x\n",
        "        for i in range(self.activators.keys()):\n",
        "            Z=np.matmul(self.weight[i],inp) + self.bias\n",
        "            a=self.activators[i](Z)\n",
        "            inp = a\n",
        "            print(\"a : \",inp"
      ],
      "metadata": {
        "id": "IxYROtUzZHdV"
      },
      "execution_count": null,
      "outputs": []
    },
    {
      "cell_type": "code",
      "source": [
        "\n",
        "def relu(arr):\n",
        "    return np.maximum(arr,0)\n",
        "\n",
        " N=Network([2,3,1])"
      ],
      "metadata": {
        "colab": {
          "base_uri": "https://localhost:8080/"
        },
        "id": "95TPJL7ma3lS",
        "outputId": "1c510ece-fbb6-48eb-a34b-b767acecb5be"
      },
      "execution_count": null,
      "outputs": [
        {
          "output_type": "stream",
          "name": "stdout",
          "text": [
            "{0: array([[0.0046609 , 0.00698336],\n",
            "       [0.00113501, 0.00583171],\n",
            "       [0.00539569, 0.0004725 ]]), 1: array([[0.00125857, 0.00241477, 0.00015242]])} {0: array([[5.72683568e-05],\n",
            "       [3.85214956e-03],\n",
            "       [3.01287810e-03]]), 1: array([[0.00904914]])}\n"
          ]
        }
      ]
    }
  ]
}